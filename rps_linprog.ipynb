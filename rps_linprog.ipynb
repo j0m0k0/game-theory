{
  "nbformat": 4,
  "nbformat_minor": 0,
  "metadata": {
    "colab": {
      "provenance": [],
      "authorship_tag": "ABX9TyPoe9UornKv9tE/VXAK+CMH",
      "include_colab_link": true
    },
    "kernelspec": {
      "name": "python3",
      "display_name": "Python 3"
    },
    "language_info": {
      "name": "python"
    }
  },
  "cells": [
    {
      "cell_type": "markdown",
      "metadata": {
        "id": "view-in-github",
        "colab_type": "text"
      },
      "source": [
        "<a href=\"https://colab.research.google.com/github/j0m0k0/game-theory/blob/main/rps_linprog.ipynb\" target=\"_parent\"><img src=\"https://colab.research.google.com/assets/colab-badge.svg\" alt=\"Open In Colab\"/></a>"
      ]
    },
    {
      "cell_type": "code",
      "execution_count": 52,
      "metadata": {
        "colab": {
          "base_uri": "https://localhost:8080/"
        },
        "id": "9kHv2XoCnyOm",
        "outputId": "a92ef3e0-4649-4644-91e0-e18cfcc08a6d"
      },
      "outputs": [
        {
          "output_type": "stream",
          "name": "stdout",
          "text": [
            "C = [1, 0, 1, -1]\n",
            "\n",
            "A = [[1, -1, 0, 1], [1, 1, -1, 0]]\n",
            "\n",
            "b = [0, 0]\n",
            "\n",
            "bounds = [(None, None), (0, 1), (0, 1), (0, 1)]\n",
            "\n",
            "Linprog result: \n",
            "     con: array([-0.8253642])\n",
            "     fun: -853820274.3053101\n",
            " message: 'The algorithm terminated successfully and determined that the problem is unbounded.'\n",
            "     nit: 4\n",
            "   slack: array([8.53820274e+08, 8.53820274e+08])\n",
            "  status: 3\n",
            " success: False\n",
            "       x: array([-8.53820274e+08,  4.62368189e-01,  6.07900246e-01,  7.55095767e-01])\n"
          ]
        }
      ],
      "source": [
        "# Goal: Solve Rock-Paper-Scissors 2 player game using linear programming\n",
        "\n",
        "import numpy as np\n",
        "from scipy.optimize import linprog\n",
        "\n",
        "# row player payoff\n",
        "payoff = np.array([[0, -1, 1], [1, 0, -1], [-1, 1, 0]])\n",
        "npayoff = np.negative(payoff)\n",
        "\n",
        "# lets solve this problem together, not separately\n",
        "first_eq = npayoff[0]\n",
        "C = [1, first_eq[0], first_eq[1], first_eq[2]]\n",
        "A = []\n",
        "b = []\n",
        "A_eq = [[0, 1, 1, 1]]\n",
        "b_eq = 1\n",
        "\n",
        "# What is the bound for Z ? (None, None) turns the problem to unbounded and \n",
        "# it cannot be solved\n",
        "\n",
        "bounds = [(None, None), (0, 1), (0, 1), (0, 1)]\n",
        "\n",
        "for i in range(1, len(npayoff)):\n",
        "  A.append([1, npayoff[i][0], npayoff[i][1], npayoff[i][2]])\n",
        "  b.append(0)\n",
        "\n",
        "print(\"C = {}\\n\".format(C))\n",
        "print(\"A = {}\\n\".format(A))\n",
        "print(\"b = {}\\n\".format(b))\n",
        "print(\"bounds = {}\\n\".format(bounds))\n",
        "\n",
        "res = linprog(C, A_ub=A, b_ub=b, bounds=bounds, A_eq=A_eq, b_eq=b_eq)\n",
        "\n",
        "print(\"Linprog result: \\n{}\".format(res))\n",
        "\n",
        "# My mistake: In the previous code, I was trying to solve each of this equations\n",
        "# separately.\n",
        "\n",
        "# What happens if we put the Z parameter inside the equations? It does not work \n",
        "# because it turns to an unbounded problem\n"
      ]
    },
    {
      "cell_type": "code",
      "source": [
        "# Goal: Solve Rock-Paper-Scissors 2 player game using linear programming\n",
        "\n",
        "import numpy as np\n",
        "from scipy.optimize import linprog\n",
        "\n",
        "# row player payoff\n",
        "payoff = np.array([[0, -1, 1], [1, 0, -1], [-1, 1, 0]])\n",
        "npayoff = np.negative(payoff)\n",
        "\n",
        "# lets solve this problem together, not separately\n",
        "first_eq = npayoff[0]\n",
        "C = [first_eq[0], first_eq[1], first_eq[2]]\n",
        "A = []\n",
        "b = []\n",
        "A_eq = [[1, 1, 1]]\n",
        "b_eq = 1\n",
        "bounds = [(0, 1), (0, 1), (0, 1)]\n",
        "\n",
        "for i in range(1, len(npayoff)):\n",
        "  A.append([npayoff[i][0], npayoff[i][1], npayoff[i][2]])\n",
        "  b.append(0)\n",
        "\n",
        "print(\"C = {}\\n\".format(C))\n",
        "print(\"A = {}\\n\".format(A))\n",
        "print(\"b = {}\\n\".format(b))\n",
        "print(\"bounds = {}\\n\".format(bounds))\n",
        "\n",
        "res = linprog(C, A_ub=A, b_ub=b, bounds=bounds, A_eq=A_eq, b_eq=b_eq)\n",
        "\n",
        "print(\"Linprog result: \\n{}\".format(res))\n",
        "\n",
        "# My mistake: In the previous code, I was trying to solve each of this equations\n",
        "# separately.\n",
        "\n",
        "# What happens if we put the Z parameter inside the equations? It does not work \n",
        "# because it turns to an unbounded problem\n"
      ],
      "metadata": {
        "colab": {
          "base_uri": "https://localhost:8080/"
        },
        "id": "ry44Rq4C6fik",
        "outputId": "469d5e1b-0a98-4b33-e0de-653b99fe9958"
      },
      "execution_count": 1,
      "outputs": [
        {
          "output_type": "stream",
          "name": "stdout",
          "text": [
            "C = [0, 1, -1]\n",
            "\n",
            "A = [[-1, 0, 1], [1, -1, 0]]\n",
            "\n",
            "b = [0, 0]\n",
            "\n",
            "bounds = [(0, 1), (0, 1), (0, 1)]\n",
            "\n",
            "Linprog result: \n",
            "     con: array([-1.00544018e-11])\n",
            "     fun: -7.808698132549807e-12\n",
            " message: 'Optimization terminated successfully.'\n",
            "     nit: 4\n",
            "   slack: array([-3.84942078e-12, -3.95927735e-12])\n",
            "  status: 0\n",
            " success: True\n",
            "       x: array([0.33333333, 0.33333333, 0.33333333])\n"
          ]
        }
      ]
    }
  ]
}